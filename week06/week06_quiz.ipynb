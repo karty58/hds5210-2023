{
  "cells": [
    {
      "cell_type": "markdown",
      "metadata": {
        "id": "tWyJpl7f50QW"
      },
      "source": [
        "# In Class Quiz!\n",
        "\n",
        "This week, we are doing an in-class quiz to see how each of you is doing on your own.\n",
        "\n",
        "You must complete this work **entirely on your own** in the next 15 minutes.\n",
        "\n",
        "You may **not ask for help** from anyone **including Google or ChatGPT**.\n",
        "\n",
        "You **are allowed** to use class slides, the online textbook, previous assignments, and any other notes you have.\n",
        "\n",
        "This quiz will be worth **20 points**.\n"
      ]
    },
    {
      "cell_type": "markdown",
      "metadata": {
        "id": "_mOtoG0u50QX"
      },
      "source": [
        "## Q6.1 - Mean Arterial Pressure (MAP)\n",
        "\n",
        "Mean Arterial Pressure can indicate if a patient is receiving sufficient blood to keep tissue alive.  You can see how to calculate MAP on the [Evidence tab of this page](https://www.mdcalc.com/calc/74/mean-arterial-pressure-map).  I've included the important details here for easy reference.\n",
        "\n",
        "* `map = (1/3 * systolic_bp) + (2/3 * diastolic_bp)`\n",
        "* If a patient has severe sepsis, we want their MAP to be ≥65 mmHg\n",
        "* If a patient does not have severe sepsis, we want their MAP to to be ≥60 mmHg\n",
        "* If the systolic_bp or diastolic_bp reported are ≤ 0, you should return `None`\n",
        "\n",
        "You need to create a function called `map_test()` that takes three parameters: `systolic_bp`, `diastolic_bp`, and `severe_sepsis`.\n",
        "* `systolic_bp` will be an integer\n",
        "* `diastolic_bp` will be an integer\n",
        "* `severe_sepsis` will be a boolean, indicating if the patient has severe sepsis (`True`) or not (`False`)\n",
        "\n",
        "Your function should return either a `True` or `False` depending on if the patient's Mean Arterial Pressure is sufficient to maintain a healthy condition.  That is:\n",
        "* If the patient has severe sepsis, then a MAP ≥ 65 should return True; otherwise False\n",
        "* If the patient does not have severe sepsis, then a MAP ≥ 60 should return True; otherwise False\n",
        "\n",
        "I have provided several test scenarios to help you verify your work.\n",
        "\n",
        "For full credit, your code must satisfy all of the following requirements:\n",
        "1. Pass all of the assert tests provided below\n",
        "2. Have a docstring with parameter types, function description, and at least 5 test cases that cover a range of inputs and outputs\n",
        "3. Successfully run all 5 tests when the *run_docstring_examples* cell is called\n",
        "4. Implement the rules above completely, even if a test scenario is not represented in the asserts or docstrings\n",
        "\n"
      ]
    },
    {
      "cell_type": "code",
      "execution_count": 6,
      "metadata": {
        "id": "W7rUrGJ150QX"
      },
      "outputs": [],
      "source": [
        "# Put your code here\n",
        "def map_test(systolic_bp, diastolic_bp, severe_sepsis):\n",
        "\n",
        "    if systolic_bp <= 0 or diastolic_bp <= 0:\n",
        "        return None\n",
        "\n",
        "    map_value = (1/3 * systolic_bp) + (2/3 * diastolic_bp)\n",
        "    if severe_sepsis:\n",
        "        return map_value >= 65\n",
        "    else:\n",
        "        return map_value >= 60"
      ]
    },
    {
      "cell_type": "code",
      "execution_count": null,
      "metadata": {
        "id": "wp6q_OZy50QY"
      },
      "outputs": [],
      "source": [
        "# map_test(systolic_bp, diastolic_bp, severe_sepsis) == True if the patient is getting enough oxygen to their body\n",
        "# map_test(systolic_bp, diastolic_bp, severe_sepsis) == False if the patient is not getting enough oxygen\n",
        "\n",
        "assert map_test(110, 70, False) == True\n",
        "assert map_test(90,  50, False) == True\n",
        "assert map_test(110, 70, True)  == True\n",
        "assert map_test(90,  50, True)  == False\n",
        "assert map_test(0,   70, False) == None\n",
        "assert map_test(110, 0,  False) == None\n",
        "assert map_test(0,   70, True)  == None\n",
        "assert map_test(110, 0,  True)  == None\n",
        "assert map_test(0,   0,  False) == None\n",
        "assert map_test(0,   0,  True)  == None"
      ]
    },
    {
      "cell_type": "code",
      "execution_count": 8,
      "metadata": {
        "id": "6MkRxHTU50QY",
        "outputId": "f9d8f075-d1e1-4935-b4f2-79918d86db00",
        "colab": {
          "base_uri": "https://localhost:8080/"
        }
      },
      "outputs": [
        {
          "output_type": "stream",
          "name": "stdout",
          "text": [
            "Finding tests in NoName\n"
          ]
        }
      ],
      "source": [
        "import doctest\n",
        "doctest.run_docstring_examples(map_test, globals(), verbose=True)"
      ]
    },
    {
      "cell_type": "markdown",
      "metadata": {
        "id": "6qx-zPO250QY"
      },
      "source": [
        "## Q6.2\n",
        "\n",
        "Replace the `?` in each of the lines of code below with one of the following responses: `dict`, `list`, `str`, `int`, or `ERROR` if you think the code is invalid.\n",
        "\n",
        "Based on the following value of the variable `data`:\n",
        "\n",
        "```python\n",
        "data = [\n",
        "    {\n",
        "        \"last_name\": \"Boal\",\n",
        "        \"first_names\": [\"Paul\", \"Anny\"]\n",
        "    },\n",
        "    {\n",
        "        \"last_name\": \"Einstein\",\n",
        "        \"first_names\": [\"Albert\"]\n",
        "    }\n",
        "]\n",
        "```\n",
        "\n",
        "The first one is done for you to show as an example."
      ]
    },
    {
      "cell_type": "code",
      "execution_count": null,
      "metadata": {
        "id": "J8r35LUJ50QY"
      },
      "outputs": [],
      "source": [
        "type(data) == list"
      ]
    },
    {
      "cell_type": "code",
      "execution_count": null,
      "metadata": {
        "id": "f2BgADC850QZ"
      },
      "outputs": [],
      "source": [
        "type(data[0]) == dict"
      ]
    },
    {
      "cell_type": "code",
      "execution_count": null,
      "metadata": {
        "id": "50NSTgXr50QZ"
      },
      "outputs": [],
      "source": [
        "type(data[1]) == dict"
      ]
    },
    {
      "cell_type": "code",
      "execution_count": null,
      "metadata": {
        "id": "JvhKuv4T50QZ"
      },
      "outputs": [],
      "source": [
        "type(data[0][\"first_names\"]) == list"
      ]
    },
    {
      "cell_type": "code",
      "execution_count": null,
      "metadata": {
        "id": "qx31_Sk250QZ"
      },
      "outputs": [],
      "source": [
        "type(data[0][\"first_names\"][0]) == str"
      ]
    },
    {
      "cell_type": "code",
      "execution_count": null,
      "metadata": {
        "id": "Y3Za6nl-50QZ"
      },
      "outputs": [],
      "source": [
        "type(data[-1][\"last_name\"]) == str"
      ]
    },
    {
      "cell_type": "code",
      "execution_count": null,
      "metadata": {
        "id": "0rutmCOT50QZ"
      },
      "outputs": [],
      "source": []
    }
  ],
  "metadata": {
    "kernelspec": {
      "display_name": ".venv",
      "language": "python",
      "name": "python3"
    },
    "language_info": {
      "codemirror_mode": {
        "name": "ipython",
        "version": 3
      },
      "file_extension": ".py",
      "mimetype": "text/x-python",
      "name": "python",
      "nbconvert_exporter": "python",
      "pygments_lexer": "ipython3",
      "version": "3.9.16"
    },
    "orig_nbformat": 4,
    "colab": {
      "provenance": []
    }
  },
  "nbformat": 4,
  "nbformat_minor": 0
}