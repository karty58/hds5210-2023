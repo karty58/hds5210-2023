{
  "cells": [
    {
      "cell_type": "markdown",
      "metadata": {
        "id": "RZSkdjpSCDUE"
      },
      "source": [
        "# Week 7 Assignment\n",
        "\n",
        "We've been working with different types of data structures in Python (dictionary, list, etc), how those are represented in JSON documents, and how to write code to access specific data elements. In this week's assignment, you will need to create your own JSON document to store information about yourself and the grades you've received from week 1 to week 4 and the week 6 quiz.  That is, everything you should have received a grade for.  Then you'll need to show me you know how to navigate the JSON in that file.\n",
        "\n",
        "Different from what we've done in the past, you do not have to write any functions or include any docstrings.  Just create some JSON and write some code.\n",
        "\n",
        "---"
      ]
    },
    {
      "cell_type": "markdown",
      "metadata": {
        "id": "vjiMztJxCDUF"
      },
      "source": [
        "## 7.1 Create a JSON string\n",
        "\n",
        "Create a JSON string that contains your name, email, year you were born, all of the grades you've received back so far, and a comment about what you thought was most challenging on each of those assignments.  This can be any structure you choose, but make sure it uses a dictionary and a list, and has at least two levels of hierarchy.  That is, it can't just be one big long list."
      ]
    },
    {
      "cell_type": "markdown",
      "metadata": {
        "id": "iRWtwtgPCDUG"
      },
      "source": [
        "First, explain how your data structure is going to look..."
      ]
    },
    {
      "cell_type": "markdown",
      "metadata": {
        "id": "r28Fax9RCDUG"
      },
      "source": [
        "On my HDS5201, I'm going to create a JSON structure with my grades and personal information. Create a dictionary called \"hds5210\" with the key/value pairs \"name\",\"birth\" and \"year_of_birth\". The list of \"assignments\" is followed by five key value pairs, including \"assignment,\" \"grades,\" and \"most_challenging,\" which stands for the difficulty of the assignment.\n"
      ]
    },
    {
      "cell_type": "markdown",
      "metadata": {
        "id": "FvEc5xJPCDUG"
      },
      "source": [
        "Then put the actual JSON you've created inside the multiline string below..."
      ]
    },
    {
      "cell_type": "code",
      "execution_count": 20,
      "metadata": {
        "id": "Urg5_7w_CDUG"
      },
      "outputs": [],
      "source": [
        "hds5210 = \"\"\"\n",
        "{\n",
        "  \"personal_information\": {\n",
        "    \"Name\": \"Karthik_Ramesh_kumar\",\n",
        "    \"Date of birth\": \"AUG_05_1998\",\n",
        "    \"Email\": \"krameshkumar@slu.edu\"\n",
        "  },\n",
        "  \"assignment\": [\n",
        "    {\n",
        "      \"assignment_name\": \"week01_assignment_1\",\n",
        "      \"score\": \"10\",\n",
        "      \"comment\": \"week01 assignment is so easy and I didn't feel any difficulty.\"\n",
        "    },\n",
        "    {\n",
        "      \"assignment_name\": \"week02_assignment_1 and week02_assignment_2\",\n",
        "      \"score\": \"10\",\n",
        "      \"comment\": \"The most challenging aspect was assignment_2 5.5 which took more time to complete.\"\n",
        "    },\n",
        "    {\n",
        "      \"assignment_name\": \"week03_assignment_1 and week03_assignment_2\",\n",
        "      \"score\": \"10\",\n",
        "      \"comment\": \"The most challenging part was the last three questions and took half a day to complete.\"\n",
        "    },\n",
        "    {\n",
        "      \"assignment_name\": \"week04_assignment_1 and week04_assignment_2\",\n",
        "      \"score\": \"10\",\n",
        "      \"comment\": \"The most challenging part was assignment_2. It was a little hard, but I completed it successfully.\"\n",
        "    },\n",
        "    {\n",
        "      \"assignment_name\": \"week_06_quiz\",\n",
        "      \"score\": \"5\",\n",
        "      \"comment\": \"I totally got depressed after finishing this quiz, and I can't manage my timing.\"\n",
        "    }\n",
        "  ]\n",
        "}\n",
        "\"\"\""
      ]
    },
    {
      "cell_type": "markdown",
      "metadata": {
        "id": "RgGzoJZbCDUH"
      },
      "source": [
        "## 7.2 Do something with your JSON\n",
        "\n",
        "Now use Python code to do something with the Json above.  Turn it into English text, but make sure that you use at least one loop to access some dict or list content of your JSON.  Below, I've provided some basic code to read in the string above as JSON and return a Python object.  Your job is to work with that data structure and print out the important information like your name, email, and how you did on each assignment."
      ]
    },
    {
      "cell_type": "code",
      "execution_count": 22,
      "metadata": {
        "id": "1n1BLfjiCDUH",
        "outputId": "6ecb05dc-6461-4c8f-df5e-4c72095641d7",
        "colab": {
          "base_uri": "https://localhost:8080/"
        }
      },
      "outputs": [
        {
          "output_type": "stream",
          "name": "stdout",
          "text": [
            "Hi, my name is Karthik_Ramesh_kumar. I was born AUG_05_1998. My email ID is krameshkumar@slu.edu\n",
            "My grades for week01_assignment_1 are 10 and the comment is: week01 assignment is so easy and I didn't feel any difficulty.\n",
            "My grades for week02_assignment_1 and week02_assignment_2 are 10 and the comment is: The most challenging aspect was assignment_2 5.5 which took more time to complete.\n",
            "My grades for week03_assignment_1 and week03_assignment_2 are 10 and the comment is: The most challenging part was the last three questions and took half a day to complete.\n",
            "My grades for week04_assignment_1 and week04_assignment_2 are 10 and the comment is: The most challenging part was assignment_2. It was a little hard, but I completed it successfully.\n",
            "My grades for week_06_quiz are 5 and the comment is: I totally got depressed after finishing this quiz, and I can't manage my timing.\n"
          ]
        }
      ],
      "source": [
        "import json\n",
        "\n",
        "info = json.loads(hds5210)\n",
        "\n",
        "name = info[\"personal_information\"][\"Name\"]\n",
        "my_Date_of_birth = info[\"personal_information\"][\"Date of birth\"]\n",
        "my_Email_ID = info[\"personal_information\"][\"Email\"]\n",
        "assignments = info[\"assignment\"]\n",
        "\n",
        "print(f\"Hi, my name is {name}. I was born {my_Date_of_birth}. My email ID is {my_Email_ID}\")\n",
        "\n",
        "for assignment in assignments:\n",
        "    assignment_name = assignment[\"assignment_name\"]\n",
        "    assignment_score = assignment[\"score\"]\n",
        "    assignment_comment = assignment[\"comment\"]\n",
        "    print(f\"My grades for {assignment_name} are {assignment_score} and the comment is: {assignment_comment}\")\n"
      ]
    },
    {
      "cell_type": "markdown",
      "metadata": {
        "id": "IAJGlC-GCDUH"
      },
      "source": [
        "## 7.3 Reflect\n",
        "\n",
        "Write a paragraph on any reflections you have. Was this hard? Easy?  What parts were most challenging or easiest? What did you like or dislike about the assignment?  Share whatever important thoughts you have abou this assignment."
      ]
    },
    {
      "cell_type": "markdown",
      "metadata": {
        "id": "ZSzNxUbfCDUH"
      },
      "source": [
        "I liked this assignment than the previous one, and i use professor paul example, as a example for doing 7.2 .With this assignment i have learned how to write JSON model. In between i was strucked on 7.2 then i edited some of my code and code runned sucessfully. Anyhow i given the best out of me and tried all the elements learn so far. I really liked the assignment."
      ]
    },
    {
      "cell_type": "markdown",
      "metadata": {
        "id": "m0YJsDuUCDUH"
      },
      "source": [
        "---\n",
        "\n",
        "# Example\n",
        "\n",
        "Below is an example of something similar, but this uses information my and my friend's kids instead of grades."
      ]
    },
    {
      "cell_type": "code",
      "execution_count": null,
      "metadata": {
        "id": "emQ6gl66CDUH",
        "outputId": "273b6077-fdf1-44ee-9027-f2454339c570"
      },
      "outputs": [
        {
          "name": "stdout",
          "output_type": "stream",
          "text": [
            "Hi, my name is Paul. I've got 3 kids. Their names are Ellie, Ada, Teddy.\n",
            "My friend, Anny has 1 kids. That's fewer than me. Their names are 1\n"
          ]
        }
      ],
      "source": [
        "hds5210 = \"\"\"\n",
        "{\n",
        "    \"me\": {\n",
        "        \"name\": \"Paul\",\n",
        "        \"kids\": [\"Ellie\", \"Ada\", \"Teddy\"]\n",
        "    },\n",
        "    \"friend\": {\n",
        "        \"name\": \"Anny\",\n",
        "        \"kids\": [\"Abby\"]\n",
        "    }\n",
        "}\n",
        "\"\"\"\n",
        "\n",
        "import json\n",
        "\n",
        "info = json.loads(hds5210)\n",
        "\n",
        "me = info[\"me\"][\"name\"]\n",
        "my_kids_count = len(info[\"me\"][\"kids\"])\n",
        "kids_list = \", \".join(info[\"me\"][\"kids\"])\n",
        "friend = info[\"friend\"][\"name\"]\n",
        "friends_kid_count = len(info[\"friend\"][\"kids\"])\n",
        "friend_kids = \", \".join(info[\"friend\"][\"kids\"])\n",
        "compare = \"more\" if friends_kid_count > my_kids_count else \"fewer\"\n",
        "\n",
        "print(f\"Hi, my name is {me}. I've got {my_kids_count} kids. Their names are {kids_list}.\")\n",
        "print(f\"My friend, {friend} has {friends_kid_count} kids. That's {compare} than me. Their names are {friends_kid_count}\")"
      ]
    }
  ],
  "metadata": {
    "kernelspec": {
      "display_name": "Python 3",
      "language": "python",
      "name": "python3"
    },
    "language_info": {
      "codemirror_mode": {
        "name": "ipython",
        "version": 3
      },
      "file_extension": ".py",
      "mimetype": "text/x-python",
      "name": "python",
      "nbconvert_exporter": "python",
      "pygments_lexer": "ipython3",
      "version": "3.9.16"
    },
    "colab": {
      "provenance": []
    }
  },
  "nbformat": 4,
  "nbformat_minor": 0
}